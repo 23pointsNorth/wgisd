{
 "cells": [
  {
   "cell_type": "markdown",
   "metadata": {},
   "source": [
    "# Embrapa Wine Grape Instance Segmentation Dataset (WGISD)\n",
    "\n",
    "## Why was the dataset created?\n",
    "\n",
    "Embrapa WGISD (Wine Grape Instance Segmentation Dataset) was created to provide images and annotation to study\n",
    "object detection and instance segmentation in image-based monitoring and field robotics for viticulture. It provides\n",
    "instances from five different grape varieties taken on field. These instances shows variance in grape pose, illumination\n",
    "and focus, including genetic and phenological variations as shape, color and compactness."
   ]
  },
  {
   "cell_type": "markdown",
   "metadata": {},
   "source": [
    "# Dataset Composition"
   ]
  },
  {
   "cell_type": "code",
   "execution_count": 1,
   "metadata": {},
   "outputs": [],
   "source": [
    "varietals = ['CDY', 'CFR', 'CSV', 'SVB', 'SYH']"
   ]
  },
  {
   "cell_type": "markdown",
   "metadata": {},
   "source": [
    "## How many instances of each type are there?"
   ]
  },
  {
   "cell_type": "code",
   "execution_count": 2,
   "metadata": {},
   "outputs": [],
   "source": [
    "import os\n",
    "import numpy as np"
   ]
  },
  {
   "cell_type": "code",
   "execution_count": 3,
   "metadata": {},
   "outputs": [],
   "source": [
    "instances = {v: [] for v in varietals}\n",
    "\n",
    "for dirname, dirnames, filenames in os.walk('.'):\n",
    "    for filename in [f for f in filenames if f.endswith('.txt')]:\n",
    "        for v in varietals:\n",
    "            if filename.startswith(v):\n",
    "                instances[v].append(filename[:-4])\n",
    "        \n",
    "\n"
   ]
  },
  {
   "cell_type": "code",
   "execution_count": 4,
   "metadata": {},
   "outputs": [
    {
     "data": {
      "text/plain": [
       "{'CDY': 65, 'CFR': 65, 'CSV': 57, 'SVB': 65, 'SYH': 48}"
      ]
     },
     "execution_count": 4,
     "metadata": {},
     "output_type": "execute_result"
    }
   ],
   "source": [
    "n_vimages = {v: len(inst_v) for v, inst_v in instances.items()}\n",
    "n_vimages"
   ]
  },
  {
   "cell_type": "code",
   "execution_count": 5,
   "metadata": {},
   "outputs": [
    {
     "data": {
      "text/plain": [
       "300"
      ]
     },
     "execution_count": 5,
     "metadata": {},
     "output_type": "execute_result"
    }
   ],
   "source": [
    "n_images = np.array([n for __, n in n_vimages.items()]).sum()\n",
    "n_images"
   ]
  },
  {
   "cell_type": "markdown",
   "metadata": {},
   "source": [
    "### Bounding boxes"
   ]
  },
  {
   "cell_type": "code",
   "execution_count": 6,
   "metadata": {},
   "outputs": [],
   "source": [
    "n_iboxes = {v: {} for v in varietals}\n",
    "\n",
    "for v in varietals:\n",
    "    for ii in instances[v]:\n",
    "        annot_file = ii + '.txt'\n",
    "        bboxes = np.loadtxt(annot_file)\n",
    "        n_iboxes[v][ii] = bboxes.shape[0]"
   ]
  },
  {
   "cell_type": "code",
   "execution_count": 7,
   "metadata": {},
   "outputs": [
    {
     "data": {
      "text/plain": [
       "{'CDY': 838, 'CFR': 1069, 'CSV': 640, 'SVB': 1313, 'SYH': 559}"
      ]
     },
     "execution_count": 7,
     "metadata": {},
     "output_type": "execute_result"
    }
   ],
   "source": [
    "n_vboxes = {v: np.array([n for ii, n in n_iboxes[v].items()]).sum() for v in varietals}\n",
    "n_vboxes"
   ]
  },
  {
   "cell_type": "markdown",
   "metadata": {},
   "source": [
    "### Masks"
   ]
  },
  {
   "cell_type": "code",
   "execution_count": 8,
   "metadata": {},
   "outputs": [],
   "source": [
    "n_imasks = {v: {} for v in varietals}\n",
    "\n",
    "for v in varietals:\n",
    "    for ii in instances[v]:\n",
    "        annot_file = ii + '.npz'\n",
    "        if os.path.isfile(annot_file):\n",
    "            masks = np.load(annot_file)['arr_0']\n",
    "            n_imasks[v][ii] = masks.shape[2]"
   ]
  },
  {
   "cell_type": "markdown",
   "metadata": {},
   "source": [
    "There is a mask for each bounding box in the masked images?"
   ]
  },
  {
   "cell_type": "code",
   "execution_count": 10,
   "metadata": {},
   "outputs": [],
   "source": [
    "for v in varietals:\n",
    "    for ii in n_imasks[v]:\n",
    "        assert(n_imasks[v][ii] == n_iboxes[v][ii])"
   ]
  },
  {
   "cell_type": "code",
   "execution_count": 11,
   "metadata": {},
   "outputs": [
    {
     "data": {
      "text/plain": [
       "{'CDY': 242, 'CFR': 460, 'CSV': 290, 'SVB': 586, 'SYH': 256}"
      ]
     },
     "execution_count": 11,
     "metadata": {},
     "output_type": "execute_result"
    }
   ],
   "source": [
    "n_vmasks = {v: np.array([n for ii, n in n_imasks[v].items()]).sum() for v in varietals}\n",
    "n_vmasks"
   ]
  },
  {
   "cell_type": "code",
   "execution_count": 12,
   "metadata": {},
   "outputs": [],
   "source": [
    "import pandas as pd"
   ]
  },
  {
   "cell_type": "code",
   "execution_count": 14,
   "metadata": {},
   "outputs": [
    {
     "data": {
      "text/plain": [
       "{'CDY': 65, 'CFR': 65, 'CSV': 57, 'SVB': 65, 'SYH': 48}"
      ]
     },
     "execution_count": 14,
     "metadata": {},
     "output_type": "execute_result"
    }
   ],
   "source": [
    "n_vimages"
   ]
  },
  {
   "cell_type": "code",
   "execution_count": 24,
   "metadata": {},
   "outputs": [
    {
     "data": {
      "text/html": [
       "<div>\n",
       "<style scoped>\n",
       "    .dataframe tbody tr th:only-of-type {\n",
       "        vertical-align: middle;\n",
       "    }\n",
       "\n",
       "    .dataframe tbody tr th {\n",
       "        vertical-align: top;\n",
       "    }\n",
       "\n",
       "    .dataframe thead th {\n",
       "        text-align: right;\n",
       "    }\n",
       "</style>\n",
       "<table border=\"1\" class=\"dataframe\">\n",
       "  <thead>\n",
       "    <tr style=\"text-align: right;\">\n",
       "      <th></th>\n",
       "      <th>Images</th>\n",
       "      <th>BoxedBunches</th>\n",
       "      <th>MaskedBunches</th>\n",
       "    </tr>\n",
       "  </thead>\n",
       "  <tbody>\n",
       "    <tr>\n",
       "      <th>CDY</th>\n",
       "      <td>65</td>\n",
       "      <td>838</td>\n",
       "      <td>242</td>\n",
       "    </tr>\n",
       "    <tr>\n",
       "      <th>CFR</th>\n",
       "      <td>65</td>\n",
       "      <td>1069</td>\n",
       "      <td>460</td>\n",
       "    </tr>\n",
       "    <tr>\n",
       "      <th>CSV</th>\n",
       "      <td>57</td>\n",
       "      <td>640</td>\n",
       "      <td>290</td>\n",
       "    </tr>\n",
       "    <tr>\n",
       "      <th>SVB</th>\n",
       "      <td>65</td>\n",
       "      <td>1313</td>\n",
       "      <td>586</td>\n",
       "    </tr>\n",
       "    <tr>\n",
       "      <th>SYH</th>\n",
       "      <td>48</td>\n",
       "      <td>559</td>\n",
       "      <td>256</td>\n",
       "    </tr>\n",
       "  </tbody>\n",
       "</table>\n",
       "</div>"
      ],
      "text/plain": [
       "     Images  BoxedBunches  MaskedBunches\n",
       "CDY      65           838            242\n",
       "CFR      65          1069            460\n",
       "CSV      57           640            290\n",
       "SVB      65          1313            586\n",
       "SYH      48           559            256"
      ]
     },
     "execution_count": 24,
     "metadata": {},
     "output_type": "execute_result"
    }
   ],
   "source": [
    "df = pd.DataFrame(index=varietals, columns=['Images', 'BoxedBunches', 'MaskedBunches'])\n",
    "for v, val in n_vimages.items():\n",
    "    df.loc[v, 'Images'] = val\n",
    "    df.loc[v, 'BoxedBunches'] = n_vboxes[v]\n",
    "    df.loc[v, 'MaskedBunches'] = n_vmasks[v]\n",
    "    \n",
    "df"
   ]
  },
  {
   "cell_type": "code",
   "execution_count": 25,
   "metadata": {},
   "outputs": [
    {
     "data": {
      "text/plain": [
       "Images            300\n",
       "BoxedBunches     4419\n",
       "MaskedBunches    1834\n",
       "dtype: int64"
      ]
     },
     "execution_count": 25,
     "metadata": {},
     "output_type": "execute_result"
    }
   ],
   "source": [
    "df.sum()"
   ]
  },
  {
   "cell_type": "markdown",
   "metadata": {},
   "source": [
    "# Train/test split for masked"
   ]
  },
  {
   "cell_type": "code",
   "execution_count": 17,
   "metadata": {},
   "outputs": [],
   "source": [
    "import random\n",
    "random.seed(42)"
   ]
  },
  {
   "cell_type": "code",
   "execution_count": 18,
   "metadata": {},
   "outputs": [],
   "source": [
    "random.shuffle(M)"
   ]
  },
  {
   "cell_type": "code",
   "execution_count": 19,
   "metadata": {},
   "outputs": [
    {
     "data": {
      "text/plain": [
       "100"
      ]
     },
     "execution_count": 19,
     "metadata": {},
     "output_type": "execute_result"
    }
   ],
   "source": [
    "M_train = M[0:n_train_m]\n",
    "len(M_train)"
   ]
  },
  {
   "cell_type": "code",
   "execution_count": 20,
   "metadata": {},
   "outputs": [
    {
     "data": {
      "text/plain": [
       "25"
      ]
     },
     "execution_count": 20,
     "metadata": {},
     "output_type": "execute_result"
    }
   ],
   "source": [
    "M_test = M[n_train_m:]\n",
    "len(M_test)"
   ]
  },
  {
   "cell_type": "markdown",
   "metadata": {},
   "source": [
    "# Train/test split for bbox"
   ]
  },
  {
   "cell_type": "code",
   "execution_count": 21,
   "metadata": {},
   "outputs": [],
   "source": [
    "random.shuffle(D)"
   ]
  },
  {
   "cell_type": "code",
   "execution_count": 22,
   "metadata": {},
   "outputs": [
    {
     "data": {
      "text/plain": [
       "175"
      ]
     },
     "execution_count": 22,
     "metadata": {},
     "output_type": "execute_result"
    }
   ],
   "source": [
    "n_diff = len(D)\n",
    "n_diff"
   ]
  },
  {
   "cell_type": "code",
   "execution_count": 23,
   "metadata": {},
   "outputs": [
    {
     "data": {
      "text/plain": [
       "140"
      ]
     },
     "execution_count": 23,
     "metadata": {},
     "output_type": "execute_result"
    }
   ],
   "source": [
    "D_train = D[0: int(0.8 * n_diff)]\n",
    "len(D_train)"
   ]
  },
  {
   "cell_type": "code",
   "execution_count": 24,
   "metadata": {},
   "outputs": [
    {
     "data": {
      "text/plain": [
       "35"
      ]
     },
     "execution_count": 24,
     "metadata": {},
     "output_type": "execute_result"
    }
   ],
   "source": [
    "D_test = D[int(0.8 * n_diff):]\n",
    "len(D_test)"
   ]
  },
  {
   "cell_type": "markdown",
   "metadata": {},
   "source": [
    "# General train/test"
   ]
  },
  {
   "cell_type": "code",
   "execution_count": 25,
   "metadata": {},
   "outputs": [
    {
     "data": {
      "text/plain": [
       "240"
      ]
     },
     "execution_count": 25,
     "metadata": {},
     "output_type": "execute_result"
    }
   ],
   "source": [
    "train = M_train + D_train\n",
    "len(train)"
   ]
  },
  {
   "cell_type": "code",
   "execution_count": 26,
   "metadata": {},
   "outputs": [
    {
     "data": {
      "text/plain": [
       "60"
      ]
     },
     "execution_count": 26,
     "metadata": {},
     "output_type": "execute_result"
    }
   ],
   "source": [
    "test = M_test + D_test\n",
    "len(test)"
   ]
  },
  {
   "cell_type": "code",
   "execution_count": 27,
   "metadata": {},
   "outputs": [
    {
     "data": {
      "text/plain": [
       "3555"
      ]
     },
     "execution_count": 27,
     "metadata": {},
     "output_type": "execute_result"
    }
   ],
   "source": [
    "a = np.array([v for k, v in bboxes.items() if k in train])\n",
    "n_train_bboxes = a.sum()\n",
    "n_train_bboxes"
   ]
  },
  {
   "cell_type": "code",
   "execution_count": 28,
   "metadata": {},
   "outputs": [
    {
     "data": {
      "text/plain": [
       "843"
      ]
     },
     "execution_count": 28,
     "metadata": {},
     "output_type": "execute_result"
    }
   ],
   "source": [
    "a = np.array([v for k, v in bboxes.items() if k in test])\n",
    "n_test_bboxes = a.sum()\n",
    "n_test_bboxes"
   ]
  },
  {
   "cell_type": "code",
   "execution_count": 29,
   "metadata": {},
   "outputs": [
    {
     "data": {
      "text/plain": [
       "4398"
      ]
     },
     "execution_count": 29,
     "metadata": {},
     "output_type": "execute_result"
    }
   ],
   "source": [
    "n_train_bboxes + n_test_bboxes"
   ]
  },
  {
   "cell_type": "code",
   "execution_count": 30,
   "metadata": {},
   "outputs": [
    {
     "data": {
      "text/plain": [
       "1479"
      ]
     },
     "execution_count": 30,
     "metadata": {},
     "output_type": "execute_result"
    }
   ],
   "source": [
    "a = np.array([v for k, v in bboxes.items() if k in M_train])\n",
    "n_train_bboxes_m = a.sum()\n",
    "n_train_bboxes_m"
   ]
  },
  {
   "cell_type": "code",
   "execution_count": 31,
   "metadata": {},
   "outputs": [
    {
     "data": {
      "text/plain": [
       "355"
      ]
     },
     "execution_count": 31,
     "metadata": {},
     "output_type": "execute_result"
    }
   ],
   "source": [
    "a = np.array([v for k, v in bboxes.items() if k in M_test])\n",
    "n_test_bboxes_m = a.sum()\n",
    "n_test_bboxes_m"
   ]
  },
  {
   "cell_type": "code",
   "execution_count": 32,
   "metadata": {},
   "outputs": [
    {
     "data": {
      "text/plain": [
       "1834"
      ]
     },
     "execution_count": 32,
     "metadata": {},
     "output_type": "execute_result"
    }
   ],
   "source": [
    "n_train_bboxes_m + n_test_bboxes_m"
   ]
  },
  {
   "cell_type": "code",
   "execution_count": 33,
   "metadata": {},
   "outputs": [
    {
     "data": {
      "text/plain": [
       "64"
      ]
     },
     "execution_count": 33,
     "metadata": {},
     "output_type": "execute_result"
    }
   ],
   "source": [
    "1898 - 1834"
   ]
  },
  {
   "cell_type": "code",
   "execution_count": 34,
   "metadata": {},
   "outputs": [
    {
     "name": "stdout",
     "output_type": "stream",
     "text": [
      "/media/thiago/st_expansion_3tb/01.14.09.001.05.04-frutifuturo/grape-v3/masks/train\n"
     ]
    }
   ],
   "source": [
    "cd masks/train"
   ]
  },
  {
   "cell_type": "code",
   "execution_count": 35,
   "metadata": {},
   "outputs": [
    {
     "data": {
      "text/plain": [
       "125"
      ]
     },
     "execution_count": 35,
     "metadata": {},
     "output_type": "execute_result"
    }
   ],
   "source": [
    "len(M)"
   ]
  },
  {
   "cell_type": "code",
   "execution_count": 36,
   "metadata": {},
   "outputs": [
    {
     "name": "stdout",
     "output_type": "stream",
     "text": [
      "CDY_2031.npz\n",
      "SVB_1974.npz\n",
      "SVB_1978.npz\n",
      "SVB_1977.npz\n",
      "CSV_20180427_144528920.npz\n",
      "CDY_2050.npz\n",
      "CSV_1889.npz\n",
      "CFR_20180427_141236326.npz\n",
      "SVB_20180427_152106643_HDR.npz\n",
      "SVB_1939.npz\n",
      "CSV_1903.npz\n",
      "CFR_1624.npz\n",
      "CFR_1642.npz\n",
      "SVB_1950.npz\n",
      "CFR_1645.npz\n",
      "CSV_1893.npz\n",
      "CSV_20180427_144556277.npz\n",
      "SYH_2017-04-27_1312.npz\n",
      "SVB_1971.npz\n",
      "CSV_1891.npz\n",
      "CSV_1881.npz\n",
      "CDY_20180427_153021423_BURST001.npz\n",
      "CSV_1899.npz\n",
      "SVB_1937.npz\n",
      "CFR_1652.npz\n",
      "SVB_1976.npz\n",
      "CDY_2027.npz\n",
      "CDY_20180427_152937457_BURST000_COVER_TOP.npz\n",
      "SVB_1951.npz\n",
      "CSV_1873.npz\n",
      "CFR_1635.npz\n",
      "SVB_1957.npz\n",
      "CSV_20180427_144615644.npz\n",
      "SVB_20180427_152328332_HDR.npz\n",
      "SVB_1969.npz\n",
      "SYH_2017-04-27_1280.npz\n",
      "CFR_1661.npz\n",
      "SVB_20180427_151954938_HDR.npz\n",
      "CFR_1650.npz\n",
      "CSV_1868.npz\n",
      "CFR_1660.npz\n",
      "SYH_2017-04-27_1251.npz\n",
      "CFR_1664.npz\n",
      "SVB_1946.npz\n",
      "SVB_1931.npz\n",
      "CSV_1886.npz\n",
      "CFR_1670.npz\n",
      "SYH_2017-04-27_1336.npz\n",
      "CFR_1626.npz\n",
      "CSV_1871.npz\n",
      "SVB_1973.npz\n",
      "CFR_1627.npz\n",
      "CFR_1663.npz\n",
      "CSV_1897.npz\n",
      "SYH_2017-04-27_1310.npz\n",
      "CSV_1901.npz\n",
      "CDY_2019.npz\n",
      "CSV_1878.npz\n",
      "SYH_2017-04-27_1332.npz\n",
      "SVB_1955.npz\n",
      "SVB_20180427_152414932_HDR.npz\n",
      "CDY_2052.npz\n",
      "CSV_1865.npz\n",
      "SYH_2017-04-27_1233.npz\n",
      "CSV_20180427_144622111_HDR.npz\n",
      "CDY_2028.npz\n",
      "CFR_1628.npz\n",
      "CFR_20180427_141158495.npz\n",
      "CFR_1654.npz\n",
      "CDY_2034.npz\n",
      "SVB_1938.npz\n",
      "CDY_2048.npz\n",
      "CSV_1911.npz\n",
      "CSV_1883.npz\n",
      "CDY_2018.npz\n",
      "CFR_1647.npz\n",
      "CFR_20180427_141115778_HDR.npz\n",
      "CFR_20180427_141128570.npz\n",
      "CDY_2042.npz\n",
      "CFR_20180427_141254316_HDR.npz\n",
      "SYH_2017-04-27_1238.npz\n",
      "SYH_2017-04-27_1300.npz\n",
      "SYH_2017-04-27_1294.npz\n",
      "SYH_2017-04-27_1236.npz\n",
      "CDY_2056.npz\n",
      "SVB_1966.npz\n",
      "CFR_1671.npz\n",
      "SYH_2017-04-27_1253.npz\n",
      "CFR_1620.npz\n",
      "CDY_2017.npz\n",
      "SYH_2017-04-27_1316.npz\n",
      "SYH_2017-04-27_1260.npz\n",
      "CSV_1882.npz\n",
      "SYH_2017-04-27_1311.npz\n",
      "CSV_1874.npz\n",
      "SYH_2017-04-27_1271.npz\n",
      "SVB_1960.npz\n",
      "SVB_1947.npz\n",
      "SVB_1967.npz\n",
      "CFR_1631.npz\n",
      "CSV_20180427_144535647.npz\n",
      "SYH_2017-04-27_1239.npz\n",
      "SVB_1935.npz\n",
      "CSV_1898.npz\n",
      "CFR_1641.npz\n",
      "CFR_1638.npz\n",
      "SYH_2017-04-27_1269.npz\n",
      "SYH_2017-04-27_1322.npz\n",
      "CDY_20180427_153310519_BURST000_COVER_TOP.npz\n",
      "CSV_1877.npz\n",
      "CSV_20180427_144723166_HDR.npz\n",
      "CDY_2040.npz\n",
      "CSV_20180427_144507419.npz\n",
      "SYH_2017-04-27_1304.npz\n",
      "SVB_1954.npz\n",
      "CDY_2043.npz\n",
      "SYH_2017-04-27_1318.npz\n",
      "CDY_2051.npz\n",
      "CFR_1639.npz\n",
      "CFR_1643.npz\n",
      "CFR_1651.npz\n",
      "SVB_1972.npz\n",
      "CDY_20180427_153144437_BURST000_COVER_TOP.npz\n",
      "CDY_2046.npz\n",
      "SVB_1944.npz\n"
     ]
    }
   ],
   "source": [
    "n_masks = {}\n",
    "for i in M:\n",
    "    src = i + '.npz'\n",
    "    print(src)\n",
    "    mask = np.load(src)['arr_0']\n",
    "    n_masks[i] = mask.shape[2]\n",
    "    if  n_masks[i] != bboxes[i]:\n",
    "        print('Error in %s: %d != %d' % (i, n_masks[i], bboxes[i]))"
   ]
  },
  {
   "cell_type": "code",
   "execution_count": 37,
   "metadata": {},
   "outputs": [
    {
     "data": {
      "text/plain": [
       "1834"
      ]
     },
     "execution_count": 37,
     "metadata": {},
     "output_type": "execute_result"
    }
   ],
   "source": [
    "a = np.array([v for k, v in n_masks.items()])\n",
    "a.sum()"
   ]
  },
  {
   "cell_type": "code",
   "execution_count": 38,
   "metadata": {},
   "outputs": [],
   "source": [
    "varietals = ['CDY', 'CFR', 'CSV', 'SVB', 'SYH']"
   ]
  },
  {
   "cell_type": "code",
   "execution_count": 39,
   "metadata": {},
   "outputs": [
    {
     "name": "stdout",
     "output_type": "stream",
     "text": [
      "CDY 242\n",
      "CFR 460\n",
      "CSV 290\n",
      "SVB 586\n",
      "SYH 256\n"
     ]
    },
    {
     "data": {
      "text/plain": [
       "1834"
      ]
     },
     "execution_count": 39,
     "metadata": {},
     "output_type": "execute_result"
    }
   ],
   "source": [
    "acc = 0\n",
    "for vt in varietals:\n",
    "    a = np.array([v for k, v in n_masks.items() if k.startswith(vt)])\n",
    "    print(vt, a.sum())\n",
    "    acc += a.sum()\n",
    "acc"
   ]
  },
  {
   "cell_type": "markdown",
   "metadata": {},
   "source": [
    "# Saving splits"
   ]
  },
  {
   "cell_type": "code",
   "execution_count": 40,
   "metadata": {},
   "outputs": [
    {
     "name": "stdout",
     "output_type": "stream",
     "text": [
      "/media/thiago/st_expansion_3tb/01.14.09.001.05.04-frutifuturo/grape-v3\n"
     ]
    }
   ],
   "source": [
    "cd ../../"
   ]
  },
  {
   "cell_type": "code",
   "execution_count": 41,
   "metadata": {},
   "outputs": [],
   "source": [
    "with open('train.txt', 'w') as fp:\n",
    "    for i in train:\n",
    "        fp.write(i + '\\n')\n",
    "        \n",
    "with open('test.txt', 'w') as fp:\n",
    "    for i in test:\n",
    "        fp.write(i + '\\n')"
   ]
  },
  {
   "cell_type": "code",
   "execution_count": 42,
   "metadata": {},
   "outputs": [],
   "source": [
    "with open('train_masked.txt', 'w') as fp:\n",
    "    for i in M_train:\n",
    "        fp.write(i + '\\n')\n",
    "        \n",
    "with open('test_masked.txt', 'w') as fp:\n",
    "    for i in M_test:\n",
    "        fp.write(i + '\\n')"
   ]
  },
  {
   "cell_type": "code",
   "execution_count": null,
   "metadata": {},
   "outputs": [],
   "source": []
  }
 ],
 "metadata": {
  "kernelspec": {
   "display_name": "Python 3",
   "language": "python",
   "name": "python3"
  },
  "language_info": {
   "codemirror_mode": {
    "name": "ipython",
    "version": 3
   },
   "file_extension": ".py",
   "mimetype": "text/x-python",
   "name": "python",
   "nbconvert_exporter": "python",
   "pygments_lexer": "ipython3",
   "version": "3.6.7"
  }
 },
 "nbformat": 4,
 "nbformat_minor": 2
}
